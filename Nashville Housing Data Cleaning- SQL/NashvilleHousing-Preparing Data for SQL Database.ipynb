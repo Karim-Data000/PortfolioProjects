{
 "cells": [
  {
   "cell_type": "markdown",
   "metadata": {},
   "source": [
    "### clean NashvilleHousing before you import it into mysql table\n",
    "\n",
    "For text columns, replace blank cells with 'NULL'. For numeric column, replace blank cells with zero.\n",
    "\n",
    "Also, remember to reformat date field to be in mysql accepted format yyyy-mm-dd."
   ]
  },
  {
   "cell_type": "code",
   "execution_count": 2,
   "metadata": {},
   "outputs": [],
   "source": [
    "import pandas as pd"
   ]
  },
  {
   "cell_type": "markdown",
   "metadata": {},
   "source": [
    "#### clean CovidVaccinations.csv"
   ]
  },
  {
   "cell_type": "code",
   "execution_count": 3,
   "metadata": {},
   "outputs": [],
   "source": [
    "# Read the CSV file into a DataFrame\n",
    "df = pd.read_csv(r'F:\\Library\\Engineering\\computer science\\Data Science\\portfolio projects\\Data Cleaning in SQL\\Nashville Housing Data for Data Cleaning (reuploaded).csv')"
   ]
  },
  {
   "cell_type": "code",
   "execution_count": 4,
   "metadata": {},
   "outputs": [
    {
     "data": {
      "text/plain": [
       "Index(['UniqueID ', 'ParcelID', 'LandUse', 'PropertyAddress', 'SaleDate',\n",
       "       'SalePrice', 'LegalReference', 'SoldAsVacant', 'OwnerName',\n",
       "       'OwnerAddress', 'Acreage', 'TaxDistrict', 'LandValue', 'BuildingValue',\n",
       "       'TotalValue', 'YearBuilt', 'Bedrooms', 'FullBath', 'HalfBath'],\n",
       "      dtype='object')"
      ]
     },
     "execution_count": 4,
     "metadata": {},
     "output_type": "execute_result"
    }
   ],
   "source": [
    "df.columns"
   ]
  },
  {
   "cell_type": "code",
   "execution_count": 5,
   "metadata": {},
   "outputs": [],
   "source": [
    "# Replace text blank cells with NULL & numeric blank cells with zero\n",
    "for column in df.columns:\n",
    "    if df[column].dtype == 'object':\n",
    "        df[column] = df[column].fillna('NULL')\n",
    "    else:\n",
    "        df[column] = df[column].fillna(0)\n",
    "\n",
    "# df = df.map(lambda x: 'NULL' if pd.isna(x) or x == '' else x)"
   ]
  },
  {
   "cell_type": "code",
   "execution_count": 8,
   "metadata": {},
   "outputs": [],
   "source": [
    "# Save the updated DataFrame to a new CSV file\n",
    "df.to_csv('Nashville Housing Data - Cleaned for sql.csv', index=False)"
   ]
  },
  {
   "cell_type": "code",
   "execution_count": 9,
   "metadata": {},
   "outputs": [
    {
     "data": {
      "text/html": [
       "<div>\n",
       "<style scoped>\n",
       "    .dataframe tbody tr th:only-of-type {\n",
       "        vertical-align: middle;\n",
       "    }\n",
       "\n",
       "    .dataframe tbody tr th {\n",
       "        vertical-align: top;\n",
       "    }\n",
       "\n",
       "    .dataframe thead th {\n",
       "        text-align: right;\n",
       "    }\n",
       "</style>\n",
       "<table border=\"1\" class=\"dataframe\">\n",
       "  <thead>\n",
       "    <tr style=\"text-align: right;\">\n",
       "      <th></th>\n",
       "      <th>UniqueID</th>\n",
       "      <th>ParcelID</th>\n",
       "      <th>LandUse</th>\n",
       "      <th>PropertyAddress</th>\n",
       "      <th>SaleDate</th>\n",
       "      <th>SalePrice</th>\n",
       "      <th>LegalReference</th>\n",
       "      <th>SoldAsVacant</th>\n",
       "      <th>OwnerName</th>\n",
       "      <th>OwnerAddress</th>\n",
       "      <th>Acreage</th>\n",
       "      <th>TaxDistrict</th>\n",
       "      <th>LandValue</th>\n",
       "      <th>BuildingValue</th>\n",
       "      <th>TotalValue</th>\n",
       "      <th>YearBuilt</th>\n",
       "      <th>Bedrooms</th>\n",
       "      <th>FullBath</th>\n",
       "      <th>HalfBath</th>\n",
       "    </tr>\n",
       "  </thead>\n",
       "  <tbody>\n",
       "    <tr>\n",
       "      <th>56472</th>\n",
       "      <td>30469</td>\n",
       "      <td>188 10 0A 101.00</td>\n",
       "      <td>SINGLE FAMILY</td>\n",
       "      <td>1435  WINDING CREEK DR, NOLENSVILLE</td>\n",
       "      <td>2015-05-27</td>\n",
       "      <td>157500</td>\n",
       "      <td>20150608-0053286</td>\n",
       "      <td>No</td>\n",
       "      <td>NULL</td>\n",
       "      <td>NULL</td>\n",
       "      <td>0.0</td>\n",
       "      <td>NULL</td>\n",
       "      <td>0.0</td>\n",
       "      <td>0.0</td>\n",
       "      <td>0.0</td>\n",
       "      <td>0.0</td>\n",
       "      <td>0.0</td>\n",
       "      <td>0.0</td>\n",
       "      <td>0.0</td>\n",
       "    </tr>\n",
       "    <tr>\n",
       "      <th>56473</th>\n",
       "      <td>27707</td>\n",
       "      <td>188 10 0A 107.00</td>\n",
       "      <td>SINGLE FAMILY</td>\n",
       "      <td>1423  WINDING CREEK DR, NOLENSVILLE</td>\n",
       "      <td>2015-03-02</td>\n",
       "      <td>145000</td>\n",
       "      <td>20150304-0019013</td>\n",
       "      <td>No</td>\n",
       "      <td>NULL</td>\n",
       "      <td>NULL</td>\n",
       "      <td>0.0</td>\n",
       "      <td>NULL</td>\n",
       "      <td>0.0</td>\n",
       "      <td>0.0</td>\n",
       "      <td>0.0</td>\n",
       "      <td>0.0</td>\n",
       "      <td>0.0</td>\n",
       "      <td>0.0</td>\n",
       "      <td>0.0</td>\n",
       "    </tr>\n",
       "    <tr>\n",
       "      <th>56474</th>\n",
       "      <td>52709</td>\n",
       "      <td>188 10 0A 118.00</td>\n",
       "      <td>VACANT RESIDENTIAL LAND</td>\n",
       "      <td>1804 GRACE POINT  LN, NOLENSVILLE</td>\n",
       "      <td>2016-08-16</td>\n",
       "      <td>234611</td>\n",
       "      <td>20160819-0087214</td>\n",
       "      <td>Yes</td>\n",
       "      <td>NULL</td>\n",
       "      <td>NULL</td>\n",
       "      <td>0.0</td>\n",
       "      <td>NULL</td>\n",
       "      <td>0.0</td>\n",
       "      <td>0.0</td>\n",
       "      <td>0.0</td>\n",
       "      <td>0.0</td>\n",
       "      <td>0.0</td>\n",
       "      <td>0.0</td>\n",
       "      <td>0.0</td>\n",
       "    </tr>\n",
       "    <tr>\n",
       "      <th>56475</th>\n",
       "      <td>54042</td>\n",
       "      <td>188 10 0A 121.00</td>\n",
       "      <td>VACANT RESIDENTIAL LAND</td>\n",
       "      <td>1709 PARK TERRACE  LN, NOLENSVILLE</td>\n",
       "      <td>2016-09-07</td>\n",
       "      <td>93844</td>\n",
       "      <td>20160919-0098411</td>\n",
       "      <td>Yes</td>\n",
       "      <td>NULL</td>\n",
       "      <td>NULL</td>\n",
       "      <td>0.0</td>\n",
       "      <td>NULL</td>\n",
       "      <td>0.0</td>\n",
       "      <td>0.0</td>\n",
       "      <td>0.0</td>\n",
       "      <td>0.0</td>\n",
       "      <td>0.0</td>\n",
       "      <td>0.0</td>\n",
       "      <td>0.0</td>\n",
       "    </tr>\n",
       "    <tr>\n",
       "      <th>56476</th>\n",
       "      <td>54043</td>\n",
       "      <td>188 10 0A 122.00</td>\n",
       "      <td>VACANT RESIDENTIAL LAND</td>\n",
       "      <td>1713 PARK TERRACE  LN, NOLENSVILLE</td>\n",
       "      <td>2016-09-07</td>\n",
       "      <td>93844</td>\n",
       "      <td>20160919-0098411</td>\n",
       "      <td>Yes</td>\n",
       "      <td>NULL</td>\n",
       "      <td>NULL</td>\n",
       "      <td>0.0</td>\n",
       "      <td>NULL</td>\n",
       "      <td>0.0</td>\n",
       "      <td>0.0</td>\n",
       "      <td>0.0</td>\n",
       "      <td>0.0</td>\n",
       "      <td>0.0</td>\n",
       "      <td>0.0</td>\n",
       "      <td>0.0</td>\n",
       "    </tr>\n",
       "  </tbody>\n",
       "</table>\n",
       "</div>"
      ],
      "text/plain": [
       "       UniqueID           ParcelID                  LandUse  \\\n",
       "56472      30469  188 10 0A 101.00            SINGLE FAMILY   \n",
       "56473      27707  188 10 0A 107.00            SINGLE FAMILY   \n",
       "56474      52709  188 10 0A 118.00  VACANT RESIDENTIAL LAND   \n",
       "56475      54042  188 10 0A 121.00  VACANT RESIDENTIAL LAND   \n",
       "56476      54043  188 10 0A 122.00  VACANT RESIDENTIAL LAND   \n",
       "\n",
       "                           PropertyAddress    SaleDate SalePrice  \\\n",
       "56472  1435  WINDING CREEK DR, NOLENSVILLE  2015-05-27    157500   \n",
       "56473  1423  WINDING CREEK DR, NOLENSVILLE  2015-03-02    145000   \n",
       "56474    1804 GRACE POINT  LN, NOLENSVILLE  2016-08-16    234611   \n",
       "56475   1709 PARK TERRACE  LN, NOLENSVILLE  2016-09-07     93844   \n",
       "56476   1713 PARK TERRACE  LN, NOLENSVILLE  2016-09-07     93844   \n",
       "\n",
       "         LegalReference SoldAsVacant OwnerName OwnerAddress  Acreage  \\\n",
       "56472  20150608-0053286           No      NULL         NULL      0.0   \n",
       "56473  20150304-0019013           No      NULL         NULL      0.0   \n",
       "56474  20160819-0087214          Yes      NULL         NULL      0.0   \n",
       "56475  20160919-0098411          Yes      NULL         NULL      0.0   \n",
       "56476  20160919-0098411          Yes      NULL         NULL      0.0   \n",
       "\n",
       "      TaxDistrict  LandValue  BuildingValue  TotalValue  YearBuilt  Bedrooms  \\\n",
       "56472        NULL        0.0            0.0         0.0        0.0       0.0   \n",
       "56473        NULL        0.0            0.0         0.0        0.0       0.0   \n",
       "56474        NULL        0.0            0.0         0.0        0.0       0.0   \n",
       "56475        NULL        0.0            0.0         0.0        0.0       0.0   \n",
       "56476        NULL        0.0            0.0         0.0        0.0       0.0   \n",
       "\n",
       "       FullBath  HalfBath  \n",
       "56472       0.0       0.0  \n",
       "56473       0.0       0.0  \n",
       "56474       0.0       0.0  \n",
       "56475       0.0       0.0  \n",
       "56476       0.0       0.0  "
      ]
     },
     "execution_count": 9,
     "metadata": {},
     "output_type": "execute_result"
    }
   ],
   "source": [
    "df.tail()"
   ]
  },
  {
   "cell_type": "code",
   "execution_count": null,
   "metadata": {},
   "outputs": [],
   "source": [
    "pd.DataFrame().map()"
   ]
  }
 ],
 "metadata": {
  "kernelspec": {
   "display_name": "tf_env",
   "language": "python",
   "name": "python3"
  },
  "language_info": {
   "codemirror_mode": {
    "name": "ipython",
    "version": 3
   },
   "file_extension": ".py",
   "mimetype": "text/x-python",
   "name": "python",
   "nbconvert_exporter": "python",
   "pygments_lexer": "ipython3",
   "version": "3.10.13"
  }
 },
 "nbformat": 4,
 "nbformat_minor": 2
}
